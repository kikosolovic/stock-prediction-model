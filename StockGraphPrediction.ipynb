{
 "cells": [
  {
   "cell_type": "code",
   "execution_count": 23,
   "id": "bbc85f30-1239-4122-ba89-7c2af0ef8f6d",
   "metadata": {},
   "outputs": [],
   "source": [
    "import numpy as np\n",
    "PATH = \"/home/kikosolovic/Desktop/NeuralNetwork/archive/HistoricalData_1727082972821.csv\""
   ]
  },
  {
   "cell_type": "code",
   "execution_count": 25,
   "id": "63d2d5c2-2b91-4ed7-b7b0-e3584206ac2b",
   "metadata": {},
   "outputs": [
    {
     "name": "stdout",
     "output_type": "stream",
     "text": [
      "2516\n"
     ]
    }
   ],
   "source": [
    "pos = 1\n",
    "close = []\n",
    "\n",
    "with open (PATH, 'r') as file:\n",
    "    for line in file.readlines()[1:]:\n",
    "        close.append(float(line.split(',')[pos][1:]))\n",
    "print(len(close))\n",
    "        "
   ]
  },
  {
   "cell_type": "code",
   "execution_count": 27,
   "id": "15834afe-eef3-4f8a-ae64-1e02d7c4cc7f",
   "metadata": {},
   "outputs": [],
   "source": [
    "history = []\n",
    "label = []\n",
    "for i in range(len(close[:-21])):\n",
    "\n",
    "    history.append(close[i:i+20])\n",
    "    label.append(close[i+20])\n",
    "    \n",
    "history = np.array(history)\n",
    "labels = np.array(label)"
   ]
  },
  {
   "cell_type": "code",
   "execution_count": 29,
   "id": "67a5849c-82a3-4532-aabe-9046efe653ae",
   "metadata": {},
   "outputs": [],
   "source": [
    "indices = np.arange(history.shape[0])\n",
    "np.random.shuffle(indices)\n",
    "X = history[indices]\n",
    "y = labels[indices]\n"
   ]
  },
  {
   "cell_type": "code",
   "execution_count": 31,
   "id": "1da732f2-42b9-4e38-a4de-3166fa5fb34e",
   "metadata": {},
   "outputs": [],
   "source": [
    "split = int(0.8 * X.shape[0])\n",
    "X_train, X_test = X[:split], X[split:]\n",
    "y_train, y_test = y[:split], y[split:]\n"
   ]
  },
  {
   "cell_type": "code",
   "execution_count": 33,
   "id": "0f4e9187-e7bc-42d8-a581-d1d1ba432a11",
   "metadata": {},
   "outputs": [],
   "source": [
    "from tensorflow.keras import models, layers, optimizers\n",
    "\n",
    "# Updated model\n",
    "model = models.Sequential([\n",
    "    layers.Input(shape=(20,)),  # Input layer for shape (20,)\n",
    "    \n",
    "    layers.Dense(64, activation='relu'),  # First hidden layer\n",
    "    layers.BatchNormalization(),\n",
    "    layers.Dropout(0.5),\n",
    "    \n",
    "    layers.Dense(128, activation='relu'),  # Second hidden layer\n",
    "    layers.BatchNormalization(),\n",
    "    layers.Dropout(0.5),\n",
    "\n",
    "    layers.Dense(64, activation='relu'),  # Third hidden layer\n",
    "    layers.BatchNormalization(),\n",
    "    layers.Dropout(0.5),\n",
    "\n",
    "    layers.Dense(1, activation='linear')  # Output layer for continuous output\n",
    "])\n",
    "\n",
    "# Learning rate schedule\n",
    "initial_learning_rate = 0.001\n",
    "lr_schedule = optimizers.schedules.ExponentialDecay(\n",
    "    initial_learning_rate,\n",
    "    decay_steps=10000,\n",
    "    decay_rate=0.9,\n",
    "    staircase=True\n",
    ")\n",
    "\n",
    "# Compile the model\n",
    "model.compile(optimizer=optimizers.Adam(learning_rate=lr_schedule),\n",
    "              loss='mean_squared_error',  # Use MSE for regression\n",
    "              metrics=['mae'])  # Mean Absolute Error for regression evaluation\n"
   ]
  },
  {
   "cell_type": "code",
   "execution_count": 35,
   "id": "43a24120-a505-40b1-816e-d696011777d4",
   "metadata": {},
   "outputs": [
    {
     "name": "stdout",
     "output_type": "stream",
     "text": [
      "Epoch 1/8\n",
      "\u001b[1m100/100\u001b[0m \u001b[32m━━━━━━━━━━━━━━━━━━━━\u001b[0m\u001b[37m\u001b[0m \u001b[1m2s\u001b[0m 3ms/step - loss: 11497.5967 - mae: 90.0483 - val_loss: 9174.9971 - val_mae: 80.4353\n",
      "Epoch 2/8\n",
      "\u001b[1m  1/100\u001b[0m \u001b[37m━━━━━━━━━━━━━━━━━━━━\u001b[0m \u001b[1m1s\u001b[0m 17ms/step - loss: 9258.0391 - mae: 79.7701"
     ]
    },
    {
     "name": "stderr",
     "output_type": "stream",
     "text": [
      "2024-09-23 11:20:50.349671: I tensorflow/core/framework/local_rendezvous.cc:404] Local rendezvous is aborting with status: OUT_OF_RANGE: End of sequence\n",
      "\t [[{{node IteratorGetNext}}]]\n",
      "/home/kikosolovic/anaconda3/lib/python3.12/contextlib.py:158: UserWarning: Your input ran out of data; interrupting training. Make sure that your dataset or generator can generate at least `steps_per_epoch * epochs` batches. You may need to use the `.repeat()` function when building your dataset.\n",
      "  self.gen.throw(value)\n"
     ]
    },
    {
     "name": "stdout",
     "output_type": "stream",
     "text": [
      "\u001b[1m100/100\u001b[0m \u001b[32m━━━━━━━━━━━━━━━━━━━━\u001b[0m\u001b[37m\u001b[0m \u001b[1m0s\u001b[0m 1ms/step - loss: 10421.3408 - mae: 88.0175 - val_loss: 8415.5547 - val_mae: 80.1114\n",
      "Epoch 3/8\n",
      "\u001b[1m100/100\u001b[0m \u001b[32m━━━━━━━━━━━━━━━━━━━━\u001b[0m\u001b[37m\u001b[0m \u001b[1m0s\u001b[0m 913us/step - loss: 9774.1777 - mae: 87.0612 - val_loss: 7899.4780 - val_mae: 81.1047\n",
      "Epoch 4/8\n",
      "\u001b[1m  1/100\u001b[0m \u001b[37m━━━━━━━━━━━━━━━━━━━━\u001b[0m \u001b[1m1s\u001b[0m 16ms/step - loss: 12157.0000 - mae: 98.6050"
     ]
    },
    {
     "name": "stderr",
     "output_type": "stream",
     "text": [
      "2024-09-23 11:20:50.622074: I tensorflow/core/framework/local_rendezvous.cc:404] Local rendezvous is aborting with status: OUT_OF_RANGE: End of sequence\n",
      "\t [[{{node IteratorGetNext}}]]\n"
     ]
    },
    {
     "name": "stdout",
     "output_type": "stream",
     "text": [
      "\u001b[1m100/100\u001b[0m \u001b[32m━━━━━━━━━━━━━━━━━━━━\u001b[0m\u001b[37m\u001b[0m \u001b[1m0s\u001b[0m 909us/step - loss: 9383.2188 - mae: 87.0549 - val_loss: 7757.4390 - val_mae: 82.7285\n",
      "Epoch 5/8\n",
      "\u001b[1m100/100\u001b[0m \u001b[32m━━━━━━━━━━━━━━━━━━━━\u001b[0m\u001b[37m\u001b[0m \u001b[1m0s\u001b[0m 894us/step - loss: 8564.4609 - mae: 84.2919 - val_loss: 7666.2046 - val_mae: 83.8163\n",
      "Epoch 6/8\n",
      "\u001b[1m 41/100\u001b[0m \u001b[32m━━━━━━━━\u001b[0m\u001b[37m━━━━━━━━━━━━\u001b[0m \u001b[1m0s\u001b[0m 1ms/step - loss: 7746.9082 - mae: 81.3974 "
     ]
    },
    {
     "name": "stderr",
     "output_type": "stream",
     "text": [
      "2024-09-23 11:20:50.843524: I tensorflow/core/framework/local_rendezvous.cc:404] Local rendezvous is aborting with status: OUT_OF_RANGE: End of sequence\n",
      "\t [[{{node IteratorGetNext}}]]\n"
     ]
    },
    {
     "name": "stdout",
     "output_type": "stream",
     "text": [
      "\u001b[1m100/100\u001b[0m \u001b[32m━━━━━━━━━━━━━━━━━━━━\u001b[0m\u001b[37m\u001b[0m \u001b[1m0s\u001b[0m 899us/step - loss: 7649.0728 - mae: 81.0336 - val_loss: 6697.8374 - val_mae: 79.4597\n",
      "Epoch 7/8\n",
      "\u001b[1m100/100\u001b[0m \u001b[32m━━━━━━━━━━━━━━━━━━━━\u001b[0m\u001b[37m\u001b[0m \u001b[1m0s\u001b[0m 933us/step - loss: 6960.1562 - mae: 78.4498 - val_loss: 6341.9316 - val_mae: 78.0510\n",
      "Epoch 8/8\n",
      "\u001b[1m100/100\u001b[0m \u001b[32m━━━━━━━━━━━━━━━━━━━━\u001b[0m\u001b[37m\u001b[0m \u001b[1m0s\u001b[0m 878us/step - loss: 6260.5283 - mae: 74.7658 - val_loss: 5508.4419 - val_mae: 73.0726\n",
      "16/16 - 0s - 1ms/step - loss: 5496.9351 - mae: 73.1023\n",
      "\n",
      "Test accuracy: 73.1022720336914\n"
     ]
    },
    {
     "name": "stderr",
     "output_type": "stream",
     "text": [
      "2024-09-23 11:20:51.274715: I tensorflow/core/framework/local_rendezvous.cc:404] Local rendezvous is aborting with status: OUT_OF_RANGE: End of sequence\n",
      "\t [[{{node IteratorGetNext}}]]\n"
     ]
    }
   ],
   "source": [
    "history = model.fit(\n",
    "    X_train, y_train,\n",
    "    batch_size=32,\n",
    "    epochs=8,\n",
    "    validation_split=0.2,\n",
    "    steps_per_epoch = 100\n",
    ")\n",
    "\n",
    "# Evaluate the model\n",
    "test_loss, test_acc = model.evaluate(X_test, y_test, verbose=2)\n",
    "print(f'\\nTest accuracy: {test_acc}')"
   ]
  },
  {
   "cell_type": "code",
   "execution_count": 37,
   "id": "53f013ae-dd79-48be-b2a1-1a4d78a28ec7",
   "metadata": {},
   "outputs": [
    {
     "ename": "ValueError",
     "evalue": "could not convert string to float: '$25.755'",
     "output_type": "error",
     "traceback": [
      "\u001b[0;31m---------------------------------------------------------------------------\u001b[0m",
      "\u001b[0;31mValueError\u001b[0m                                Traceback (most recent call last)",
      "Cell \u001b[0;32mIn[37], line 5\u001b[0m\n\u001b[1;32m      3\u001b[0m \u001b[38;5;28;01mwith\u001b[39;00m \u001b[38;5;28mopen\u001b[39m (PATH, \u001b[38;5;124m'\u001b[39m\u001b[38;5;124mr\u001b[39m\u001b[38;5;124m'\u001b[39m) \u001b[38;5;28;01mas\u001b[39;00m file:\n\u001b[1;32m      4\u001b[0m     \u001b[38;5;28;01mfor\u001b[39;00m line \u001b[38;5;129;01min\u001b[39;00m file\u001b[38;5;241m.\u001b[39mreadlines()[\u001b[38;5;241m-\u001b[39m\u001b[38;5;241m21\u001b[39m:]:\n\u001b[0;32m----> 5\u001b[0m         closeLast\u001b[38;5;241m.\u001b[39mappend(\u001b[38;5;28mfloat\u001b[39m(line\u001b[38;5;241m.\u001b[39msplit(\u001b[38;5;124m'\u001b[39m\u001b[38;5;124m,\u001b[39m\u001b[38;5;124m'\u001b[39m)[\u001b[38;5;241m4\u001b[39m]))\n\u001b[1;32m      6\u001b[0m \u001b[38;5;28mprint\u001b[39m((closeLast))\n\u001b[1;32m      7\u001b[0m x \u001b[38;5;241m=\u001b[39m np\u001b[38;5;241m.\u001b[39marray(closeLast[:\u001b[38;5;241m-\u001b[39m\u001b[38;5;241m1\u001b[39m])\n",
      "\u001b[0;31mValueError\u001b[0m: could not convert string to float: '$25.755'"
     ]
    }
   ],
   "source": [
    "closeLast = []\n",
    "\n",
    "with open (PATH, 'r') as file:\n",
    "    for line in file.readlines()[-21:]:\n",
    "        closeLast.append(float(line.split(',')[4]))\n",
    "print((closeLast))\n",
    "x = np.array(closeLast[:-1])\n",
    "rx =x.copy()\n",
    "print(x)\n",
    "print((x.shape))\n",
    "\n",
    "\n"
   ]
  },
  {
   "cell_type": "code",
   "execution_count": 39,
   "id": "eeb010d9-f422-433e-8f70-6a8554337de7",
   "metadata": {},
   "outputs": [
    {
     "ename": "NameError",
     "evalue": "name 'x' is not defined",
     "output_type": "error",
     "traceback": [
      "\u001b[0;31m---------------------------------------------------------------------------\u001b[0m",
      "\u001b[0;31mNameError\u001b[0m                                 Traceback (most recent call last)",
      "Cell \u001b[0;32mIn[39], line 1\u001b[0m\n\u001b[0;32m----> 1\u001b[0m \u001b[38;5;28;01mfor\u001b[39;00m i \u001b[38;5;129;01min\u001b[39;00m x:\n\u001b[1;32m      2\u001b[0m     \u001b[38;5;28mprint\u001b[39m(\u001b[38;5;124m\"\u001b[39m\u001b[38;5;124mold: \u001b[39m\u001b[38;5;124m\"\u001b[39m,i)\n\u001b[1;32m      3\u001b[0m \u001b[38;5;28;01mfor\u001b[39;00m i \u001b[38;5;129;01min\u001b[39;00m \u001b[38;5;28mrange\u001b[39m(\u001b[38;5;241m20\u001b[39m):\n",
      "\u001b[0;31mNameError\u001b[0m: name 'x' is not defined"
     ]
    }
   ],
   "source": [
    "for i in x:\n",
    "    print(\"old: \",i)\n",
    "for i in range(20):\n",
    "    prediction = model.predict(x.reshape(1,-1))\n",
    "    x = np.delete(x,[0])\n",
    "    x = np.append(x,prediction[0][0])\n",
    "    print('prediction: ',prediction[0][0])\n"
   ]
  },
  {
   "cell_type": "code",
   "execution_count": 203,
   "id": "d0b3a71f-a3a2-468f-931b-ab805484dbb3",
   "metadata": {},
   "outputs": [
    {
     "data": {
      "image/png": "[encoded data removed]",
      "text/plain": [
       "<Figure size 640x480 with 1 Axes>"
      ]
     },
     "metadata": {},
     "output_type": "display_data"
    }
   ],
   "source": [
    "import matplotlib.pyplot as plt\n",
    "y = np.concatenate((rx,x),axis=0)\n",
    "plt.plot(y)\n",
    "x_line = len(y)/2 \n",
    "plt.axvline(x=x_line, color='red', linestyle='--', label='Vertical Line')\n",
    "\n",
    "plt.ylabel('dollash')\n",
    "plt.xlabel('last 20 days   < | >   next 20 days')\n",
    "plt.title(\"AAPL prediction\")\n",
    "plt.show()"
   ]
  },
  {
   "cell_type": "code",
   "execution_count": null,
   "id": "48450087-e828-48e3-81bc-1f6839c6f24b",
   "metadata": {},
   "outputs": [],
   "source": []
  }
 ],
 "metadata": {
  "kernelspec": {
   "display_name": "Python 3 (ipykernel)",
   "language": "python",
   "name": "python3"
  },
  "language_info": {
   "codemirror_mode": {
    "name": "ipython",
    "version": 3
   },
   "file_extension": ".py",
   "mimetype": "text/x-python",
   "name": "python",
   "nbconvert_exporter": "python",
   "pygments_lexer": "ipython3",
   "version": "3.12.4"
  }
 },
 "nbformat": 4,
 "nbformat_minor": 5
}
